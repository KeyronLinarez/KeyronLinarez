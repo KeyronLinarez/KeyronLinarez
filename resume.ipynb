{
  "cells": [
    {
      "cell_type": "raw",
      "metadata": {},
      "source": [
        "---\n",
        "title: My Resume\n",
        "embed-resources: true\n",
        "---"
      ],
      "id": "f5e66eeb"
    },
    {
      "cell_type": "markdown",
      "metadata": {},
      "source": [
        "```{html}\n",
        "<style>\n",
        "  #myid {\n",
        "    border: 10px solid rgba(200,0,0,.2);\n",
        "    margin: 0;\n",
        "  }\n",
        "  .myclass {\n",
        "    max-width: 100%;\n",
        "    width: 600px;\n",
        "    height: 600px;\n",
        "  }\n",
        "</style>\n",
        "```\n",
        "\n",
        "\n",
        "![](Klinarez_12_24.pdf)"
      ],
      "id": "497295ce"
    }
  ],
  "metadata": {
    "kernelspec": {
      "display_name": "Python 3",
      "language": "python",
      "name": "python3"
    }
  },
  "nbformat": 4,
  "nbformat_minor": 5
}